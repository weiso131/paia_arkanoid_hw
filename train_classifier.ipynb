{
 "cells": [
  {
   "cell_type": "code",
   "execution_count": null,
   "metadata": {},
   "outputs": [],
   "source": [
    "from os import listdir\n",
    "import pickle\n",
    "import numpy as np\n",
    "import os\n",
    "os.environ[\"KMP_DUPLICATE_LIB_OK\"]=\"TRUE\"\n",
    "from matplotlib import pyplot as plt\n",
    "\n",
    "def pickle_read(path):\n",
    "    with open(path, 'rb') as f:\n",
    "        \n",
    "        data = pickle.load(f)\n",
    "        return data\n"
   ]
  },
  {
   "cell_type": "code",
   "execution_count": null,
   "metadata": {},
   "outputs": [],
   "source": [
    "train_data = listdir(\"train_data\")\n",
    "graph_data = []\n",
    "graph_label = []\n",
    "print(train_data)\n",
    "for d in train_data:\n",
    "    graphs = pickle_read(\"train_data/\" + d)\n",
    "    for graph in graphs:\n",
    "        graph_data.append(graph[0])\n",
    "        graph_label.append(graph[1])\n",
    "\n",
    "\n",
    "plt.imshow(graph_data[1][0])\n",
    "plt.show()\n",
    "\n"
   ]
  },
  {
   "cell_type": "code",
   "execution_count": null,
   "metadata": {},
   "outputs": [],
   "source": [
    "# for i in range(len(graph_data)):\n",
    "#     plt.imshow(graph_data[i][0])\n",
    "#     plt.show()"
   ]
  },
  {
   "cell_type": "code",
   "execution_count": null,
   "metadata": {},
   "outputs": [],
   "source": [
    "import torch\n",
    "from torch.utils.data import DataLoader, TensorDataset\n",
    "\n",
    "batch = 128\n",
    "# 转换为PyTorch张量\n",
    "graph_data_tensor = torch.tensor(np.array(graph_data), dtype=torch.double)\n",
    "graph_label_tensor = torch.tensor(np.array(graph_label), dtype=torch.long)\n",
    "\n",
    "# 创建TensorDataset和DataLoader\n",
    "dataset = TensorDataset(graph_data_tensor, graph_label_tensor)\n",
    "data_loader = DataLoader(dataset, batch_size=batch, shuffle=True)\n",
    "\n",
    "for x, y in data_loader:\n",
    "    print(x.shape)\n",
    "    print(y.shape)\n",
    "    break"
   ]
  },
  {
   "cell_type": "code",
   "execution_count": null,
   "metadata": {},
   "outputs": [],
   "source": [
    "import torch.nn as nn\n",
    "import torch.nn.functional as F\n",
    "\n",
    "class SimpleCNN(nn.Module):\n",
    "    def __init__(self):\n",
    "        super(SimpleCNN, self).__init__()\n",
    "\n",
    "        self.conv = nn.Sequential(nn.Conv2d(2, 16, kernel_size=3, padding=1, stride=2),\n",
    "                                  nn.ReLU(),\n",
    "                                  nn.Conv2d(16, 64, kernel_size=3, padding=1, stride=2),\n",
    "                                  nn.ReLU(),)\n",
    "\n",
    "        fc_sample = torch.zeros((2, 40, 100))\n",
    "        self.fc_input = len(torch.flatten(self.conv(fc_sample)))\n",
    "\n",
    "        self.fc = nn.Sequential(nn.Linear(self.fc_input, 1024),\n",
    "                                nn.ReLU(),\n",
    "                                nn.Linear(1024, 3))\n",
    "        \n",
    "    \n",
    "    def forward(self, x):\n",
    "        x = self.conv(x)\n",
    "        x = torch.flatten(x, 1)\n",
    "        x = self.fc(x)\n",
    "        return x\n",
    "    \n",
    "\n"
   ]
  },
  {
   "cell_type": "code",
   "execution_count": null,
   "metadata": {},
   "outputs": [],
   "source": [
    "import torch.optim as optim\n",
    "\n",
    "use_gpu = torch.cuda.is_available()\n",
    "\n",
    "\n",
    "model = SimpleCNN()#要跟讀取的模型同個結構\n",
    "\n",
    "\n",
    "criterion = nn.CrossEntropyLoss()\n",
    "optimizer = optim.Adam(model.parameters(), lr=0.0001)\n",
    "min_loss = 1e9\n",
    "\n",
    "if (use_gpu):\n",
    "    model = model.to(device=\"cuda\", dtype=torch.double)\n",
    "    criterion = criterion.to(device=\"cuda\", dtype=torch.double)\n",
    "\n",
    "model"
   ]
  },
  {
   "cell_type": "code",
   "execution_count": null,
   "metadata": {},
   "outputs": [],
   "source": [
    "max_acc = 0"
   ]
  },
  {
   "cell_type": "code",
   "execution_count": null,
   "metadata": {},
   "outputs": [],
   "source": [
    "\n",
    "for epoch in range(1000): \n",
    "    running_loss = 0.0\n",
    "    correct = 0\n",
    "    total = 0\n",
    "\n",
    "    \n",
    "    batch_count = 0\n",
    "    for inputs, labels in data_loader:\n",
    "        #print(f\"batch:{batch_count}\")\n",
    "        if (use_gpu):\n",
    "            inputs, labels = inputs.to(device=\"cuda\", dtype=torch.double), labels.to(device=\"cuda\", dtype=torch.long)\n",
    "        \n",
    "        optimizer.zero_grad()  # 清空梯度\n",
    "        outputs = model(inputs)  # 前向传播\n",
    "        loss = criterion(outputs, labels)  # 计算损失\n",
    "        loss.backward()  # 反向传播\n",
    "        optimizer.step()  # 更新权重\n",
    "        \n",
    "        running_loss += loss.item()\n",
    "        _, predicted = torch.max(outputs.data, 1)  # 获取预测结果\n",
    "        total += labels.size(0)  # 更新总样本数\n",
    "        correct += (predicted == labels).sum().item()  # 更新正确预测的样本数\n",
    "        \n",
    "        # for i in range(len(predicted)):\n",
    "        #     if (predicted[i] != labels[i]):\n",
    "        #         print(f\"No:{i}, predict:{predicted[i]}, label:{int(labels[i])}\", end=\" \")\n",
    "        batch_count += 1\n",
    "        \n",
    "    epoch_loss = running_loss / len(data_loader)\n",
    "    epoch_acc = 100 * correct / total  # 计算准确率\n",
    "    print()\n",
    "    if (max_acc < epoch_acc):\n",
    "        \n",
    "        torch.save(model.state_dict() ,\"checkpoint_cls.pth\" )\n",
    "        print(f\"save model, old_acc:{max_acc}, new_acc:{epoch_acc}\")\n",
    "        max_acc = epoch_acc\n",
    "\n",
    "    print(f\"Epoch {epoch+1}, Loss: {epoch_loss:.4f}, Accuracy: {epoch_acc:.3f}%\")"
   ]
  },
  {
   "cell_type": "code",
   "execution_count": null,
   "metadata": {},
   "outputs": [],
   "source": []
  }
 ],
 "metadata": {
  "kernelspec": {
   "display_name": "AI",
   "language": "python",
   "name": "python3"
  },
  "language_info": {
   "codemirror_mode": {
    "name": "ipython",
    "version": 3
   },
   "file_extension": ".py",
   "mimetype": "text/x-python",
   "name": "python",
   "nbconvert_exporter": "python",
   "pygments_lexer": "ipython3",
   "version": "3.9.16"
  }
 },
 "nbformat": 4,
 "nbformat_minor": 2
}
